{
  "nbformat": 4,
  "nbformat_minor": 0,
  "metadata": {
    "colab": {
      "provenance": []
    },
    "kernelspec": {
      "name": "python3",
      "display_name": "Python 3"
    },
    "language_info": {
      "name": "python"
    }
  },
  "cells": [
    {
      "cell_type": "markdown",
      "source": [
        "#Regresión logistica"
      ],
      "metadata": {
        "id": "G1sH5xNm0F6F"
      }
    },
    {
      "cell_type": "markdown",
      "source": [
        "#Introducción\n",
        "En el siguiente ejercicio se va a realizar un regresión logistica utilizando los datos del data set utilizado son de un banco. Se utiliza la columa default y la columna loan para trabajar con el modelo, la regresión logistica trabaja con datos binarios o de true o false, por lo cual datos numericos como 1.2, 2.2, etc. No sirven para trabajar con el modelo o para las predicciones."
      ],
      "metadata": {
        "id": "AUkGGqE5CAv8"
      }
    },
    {
      "cell_type": "markdown",
      "source": [
        "Utilizando las variables edad, cuanto gana."
      ],
      "metadata": {
        "id": "AYFgpHvCzPG1"
      }
    },
    {
      "cell_type": "markdown",
      "source": [
        "Como generar una regresión logistica con pandas"
      ],
      "metadata": {
        "id": "lLjCE_8uDohH"
      }
    },
    {
      "cell_type": "code",
      "execution_count": 33,
      "metadata": {
        "id": "wwSkgLf10CRt"
      },
      "outputs": [],
      "source": [
        "import pandas as pd\n",
        "from sklearn.model_selection import train_test_split\n",
        "from sklearn.linear_model import LogisticRegression\n",
        "from sklearn.metrics import classification_report\n",
        "import matplotlib.pyplot as plt\n"
      ]
    },
    {
      "cell_type": "markdown",
      "source": [
        "Utilizando una extensión de VISUAL STUDIO CODE para editar CSV edite el archivo para que en vez de yes o no en las columnas fueran 0 y 1 ya que si no fuera de esa manera se tendria que realizar una conversión utilizando .map para que leyera los valores ya que si no se hace esta converión el modelo arroja un error de que no se puede trabajar con valores de tipo String."
      ],
      "metadata": {
        "id": "PnyVTIbAFIlR"
      }
    },
    {
      "cell_type": "code",
      "source": [
        "from google.colab import drive\n",
        "drive.mount('/gdrive')\n",
        "\n",
        "ruta = \"/gdrive/MyDrive/mineria/newData.csv\"\n",
        "data = pd.read_csv(ruta, encoding=\"latin1\")"
      ],
      "metadata": {
        "id": "Zcq1b90WrmuU",
        "colab": {
          "base_uri": "https://localhost:8080/"
        },
        "outputId": "23dc88a4-8d7b-4f28-ee6b-9b0d6e84b86d"
      },
      "execution_count": 34,
      "outputs": [
        {
          "output_type": "stream",
          "name": "stdout",
          "text": [
            "Drive already mounted at /gdrive; to attempt to forcibly remount, call drive.mount(\"/gdrive\", force_remount=True).\n"
          ]
        }
      ]
    },
    {
      "cell_type": "markdown",
      "source": [
        "X = data[[\"loan\"]] es la variable predictoria o variable independiente la cual nos va a servir para predecir los valores a futuros.\n",
        "\n",
        "Y = data[\"default\"] es la variable dependiente es decir depende del valor de X para predecir el modelo."
      ],
      "metadata": {
        "id": "T_gknnkaDt7t"
      }
    },
    {
      "cell_type": "code",
      "source": [
        "X = data[['loan']]\n",
        "y = data['default']"
      ],
      "metadata": {
        "id": "gf1QPUN_rxm6"
      },
      "execution_count": 35,
      "outputs": []
    },
    {
      "cell_type": "markdown",
      "source": [
        "Utilizando la libreria train_test_split que es parte de Scikit-learn lo que hace es que trabaja con las variables X y Y para comenzar a entrenar el modelo, el modelo se divie en 4 variables X_train, X_test, y_train, y_test, las cuales nos van a servir para el entrenamiento y las pruebas del modelo."
      ],
      "metadata": {
        "id": "vmBQVEaTEXDN"
      }
    },
    {
      "cell_type": "code",
      "source": [
        "X_train, X_test, y_train, y_test = train_test_split(X, y, test_size=0.2, random_state=42)"
      ],
      "metadata": {
        "id": "aii9YUCNr0hx"
      },
      "execution_count": 44,
      "outputs": []
    },
    {
      "cell_type": "markdown",
      "source": [
        "Se crea el modelo el cual utilizara una regresión logistica para trabajar."
      ],
      "metadata": {
        "id": "2E3onI9SEw-U"
      }
    },
    {
      "cell_type": "code",
      "source": [
        "model = LogisticRegression()\n"
      ],
      "metadata": {
        "id": "iy1zpmdyr2QK"
      },
      "execution_count": 37,
      "outputs": []
    },
    {
      "cell_type": "markdown",
      "source": [
        "Se comienza con el entrenamiento del modelo"
      ],
      "metadata": {
        "id": "Igr6ZLBAE6fL"
      }
    },
    {
      "cell_type": "code",
      "source": [
        "model.fit(X_train, y_train)"
      ],
      "metadata": {
        "id": "KPOvQIr7r5gb",
        "colab": {
          "base_uri": "https://localhost:8080/",
          "height": 75
        },
        "outputId": "770c2913-b4b6-4594-db4f-cb49c30933fd"
      },
      "execution_count": 38,
      "outputs": [
        {
          "output_type": "execute_result",
          "data": {
            "text/plain": [
              "LogisticRegression()"
            ],
            "text/html": [
              "<style>#sk-container-id-1 {color: black;background-color: white;}#sk-container-id-1 pre{padding: 0;}#sk-container-id-1 div.sk-toggleable {background-color: white;}#sk-container-id-1 label.sk-toggleable__label {cursor: pointer;display: block;width: 100%;margin-bottom: 0;padding: 0.3em;box-sizing: border-box;text-align: center;}#sk-container-id-1 label.sk-toggleable__label-arrow:before {content: \"▸\";float: left;margin-right: 0.25em;color: #696969;}#sk-container-id-1 label.sk-toggleable__label-arrow:hover:before {color: black;}#sk-container-id-1 div.sk-estimator:hover label.sk-toggleable__label-arrow:before {color: black;}#sk-container-id-1 div.sk-toggleable__content {max-height: 0;max-width: 0;overflow: hidden;text-align: left;background-color: #f0f8ff;}#sk-container-id-1 div.sk-toggleable__content pre {margin: 0.2em;color: black;border-radius: 0.25em;background-color: #f0f8ff;}#sk-container-id-1 input.sk-toggleable__control:checked~div.sk-toggleable__content {max-height: 200px;max-width: 100%;overflow: auto;}#sk-container-id-1 input.sk-toggleable__control:checked~label.sk-toggleable__label-arrow:before {content: \"▾\";}#sk-container-id-1 div.sk-estimator input.sk-toggleable__control:checked~label.sk-toggleable__label {background-color: #d4ebff;}#sk-container-id-1 div.sk-label input.sk-toggleable__control:checked~label.sk-toggleable__label {background-color: #d4ebff;}#sk-container-id-1 input.sk-hidden--visually {border: 0;clip: rect(1px 1px 1px 1px);clip: rect(1px, 1px, 1px, 1px);height: 1px;margin: -1px;overflow: hidden;padding: 0;position: absolute;width: 1px;}#sk-container-id-1 div.sk-estimator {font-family: monospace;background-color: #f0f8ff;border: 1px dotted black;border-radius: 0.25em;box-sizing: border-box;margin-bottom: 0.5em;}#sk-container-id-1 div.sk-estimator:hover {background-color: #d4ebff;}#sk-container-id-1 div.sk-parallel-item::after {content: \"\";width: 100%;border-bottom: 1px solid gray;flex-grow: 1;}#sk-container-id-1 div.sk-label:hover label.sk-toggleable__label {background-color: #d4ebff;}#sk-container-id-1 div.sk-serial::before {content: \"\";position: absolute;border-left: 1px solid gray;box-sizing: border-box;top: 0;bottom: 0;left: 50%;z-index: 0;}#sk-container-id-1 div.sk-serial {display: flex;flex-direction: column;align-items: center;background-color: white;padding-right: 0.2em;padding-left: 0.2em;position: relative;}#sk-container-id-1 div.sk-item {position: relative;z-index: 1;}#sk-container-id-1 div.sk-parallel {display: flex;align-items: stretch;justify-content: center;background-color: white;position: relative;}#sk-container-id-1 div.sk-item::before, #sk-container-id-1 div.sk-parallel-item::before {content: \"\";position: absolute;border-left: 1px solid gray;box-sizing: border-box;top: 0;bottom: 0;left: 50%;z-index: -1;}#sk-container-id-1 div.sk-parallel-item {display: flex;flex-direction: column;z-index: 1;position: relative;background-color: white;}#sk-container-id-1 div.sk-parallel-item:first-child::after {align-self: flex-end;width: 50%;}#sk-container-id-1 div.sk-parallel-item:last-child::after {align-self: flex-start;width: 50%;}#sk-container-id-1 div.sk-parallel-item:only-child::after {width: 0;}#sk-container-id-1 div.sk-dashed-wrapped {border: 1px dashed gray;margin: 0 0.4em 0.5em 0.4em;box-sizing: border-box;padding-bottom: 0.4em;background-color: white;}#sk-container-id-1 div.sk-label label {font-family: monospace;font-weight: bold;display: inline-block;line-height: 1.2em;}#sk-container-id-1 div.sk-label-container {text-align: center;}#sk-container-id-1 div.sk-container {/* jupyter's `normalize.less` sets `[hidden] { display: none; }` but bootstrap.min.css set `[hidden] { display: none !important; }` so we also need the `!important` here to be able to override the default hidden behavior on the sphinx rendered scikit-learn.org. See: https://github.com/scikit-learn/scikit-learn/issues/21755 */display: inline-block !important;position: relative;}#sk-container-id-1 div.sk-text-repr-fallback {display: none;}</style><div id=\"sk-container-id-1\" class=\"sk-top-container\"><div class=\"sk-text-repr-fallback\"><pre>LogisticRegression()</pre><b>In a Jupyter environment, please rerun this cell to show the HTML representation or trust the notebook. <br />On GitHub, the HTML representation is unable to render, please try loading this page with nbviewer.org.</b></div><div class=\"sk-container\" hidden><div class=\"sk-item\"><div class=\"sk-estimator sk-toggleable\"><input class=\"sk-toggleable__control sk-hidden--visually\" id=\"sk-estimator-id-1\" type=\"checkbox\" checked><label for=\"sk-estimator-id-1\" class=\"sk-toggleable__label sk-toggleable__label-arrow\">LogisticRegression</label><div class=\"sk-toggleable__content\"><pre>LogisticRegression()</pre></div></div></div></div></div>"
            ]
          },
          "metadata": {},
          "execution_count": 38
        }
      ]
    },
    {
      "cell_type": "markdown",
      "source": [
        "Y se comienza a predecir los valores del modelo."
      ],
      "metadata": {
        "id": "_J9Vmad5E9nL"
      }
    },
    {
      "cell_type": "code",
      "source": [
        "y_pred = model.predict(X_test)\n"
      ],
      "metadata": {
        "id": "JAzpEH05r7Vs"
      },
      "execution_count": 39,
      "outputs": []
    },
    {
      "cell_type": "code",
      "source": [
        "print(classification_report(y_test, y_pred))\n"
      ],
      "metadata": {
        "id": "0LlISw5Rr81G",
        "colab": {
          "base_uri": "https://localhost:8080/"
        },
        "outputId": "b85ec30b-c7d5-40b3-d3a6-5c1e4f9a9d15"
      },
      "execution_count": 43,
      "outputs": [
        {
          "output_type": "stream",
          "name": "stdout",
          "text": [
            "              precision    recall  f1-score   support\n",
            "\n",
            "           0       0.98      1.00      0.99      8874\n",
            "           1       0.00      0.00      0.00       164\n",
            "\n",
            "    accuracy                           0.98      9038\n",
            "   macro avg       0.49      0.50      0.50      9038\n",
            "weighted avg       0.96      0.98      0.97      9038\n",
            "\n"
          ]
        },
        {
          "output_type": "stream",
          "name": "stderr",
          "text": [
            "/usr/local/lib/python3.10/dist-packages/sklearn/metrics/_classification.py:1344: UndefinedMetricWarning: Precision and F-score are ill-defined and being set to 0.0 in labels with no predicted samples. Use `zero_division` parameter to control this behavior.\n",
            "  _warn_prf(average, modifier, msg_start, len(result))\n",
            "/usr/local/lib/python3.10/dist-packages/sklearn/metrics/_classification.py:1344: UndefinedMetricWarning: Precision and F-score are ill-defined and being set to 0.0 in labels with no predicted samples. Use `zero_division` parameter to control this behavior.\n",
            "  _warn_prf(average, modifier, msg_start, len(result))\n",
            "/usr/local/lib/python3.10/dist-packages/sklearn/metrics/_classification.py:1344: UndefinedMetricWarning: Precision and F-score are ill-defined and being set to 0.0 in labels with no predicted samples. Use `zero_division` parameter to control this behavior.\n",
            "  _warn_prf(average, modifier, msg_start, len(result))\n"
          ]
        }
      ]
    },
    {
      "cell_type": "markdown",
      "source": [
        "#Conclusión y Explicación de la grafica.\n",
        "¿Porqué la pendiente dio una linea?\n",
        "Es algo raro pero segun el libro The Elements of Statistical Learning\n",
        "Data Mining, Inference, and Prediction de Trevor Hastie\n",
        "Robert Tibshirani\n",
        "Jerome Friedman, menciona que la regresión logistica no se llega a curvar debido a que la variable independiente solo se esta trabajando con una y la relación entre la variable puede ser lineal.\n",
        "Si la relación entre la variable independiente y la probabilidad de pertenecer a la clase positiva es lineal, entonces se puede representar visualmente como una línea recta.\n",
        "\n",
        "Nota: en la mayoria de casos se trabaja con más de una variable independiente por lo cual es cuando la regresión logistica comienza a curva la lineal.\n",
        "\n",
        "Link del libro: https://hastie.su.domains/Papers/ESLII.pdf"
      ],
      "metadata": {
        "id": "swSzEwvFFnDB"
      }
    },
    {
      "cell_type": "code",
      "source": [
        "plt.scatter(X['loan'], y, c=y, cmap='rainbow')  # Grafica los puntos de datos con colores según la etiqueta\n",
        "plt.plot(X['loan'], -(model.coef_[0] * X['loan'] + model.intercept_) / model.coef_[0], color='black')  # Grafica la línea de separación\n",
        "plt.xlabel('Loan')\n",
        "plt.ylabel('Default')\n",
        "plt.title('Regresión Logística')\n",
        "plt.show()"
      ],
      "metadata": {
        "id": "mCWQV2TWsGi6",
        "colab": {
          "base_uri": "https://localhost:8080/",
          "height": 472
        },
        "outputId": "281bf297-c68c-49fa-d820-8d185784e858"
      },
      "execution_count": 42,
      "outputs": [
        {
          "output_type": "display_data",
          "data": {
            "text/plain": [
              "<Figure size 640x480 with 1 Axes>"
            ],
            "image/png": "[encoded data removed]"
          },
          "metadata": {}
        }
      ]
    },
    {
      "cell_type": "markdown",
      "source": [],
      "metadata": {
        "id": "FK8ZWwS7HLzD"
      }
    }
  ]
}