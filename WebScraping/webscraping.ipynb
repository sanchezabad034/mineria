{
  "nbformat": 4,
  "nbformat_minor": 0,
  "metadata": {
    "colab": {
      "provenance": []
    },
    "kernelspec": {
      "name": "python3",
      "display_name": "Python 3"
    },
    "language_info": {
      "name": "python"
    }
  },
  "cells": [
    {
      "cell_type": "markdown",
      "source": [
        "#Web Scaping"
      ],
      "metadata": {
        "id": "h25NRfUocItD"
      }
    },
    {
      "cell_type": "markdown",
      "source": [
        "Introducción: BeautifulSoup es una libreria de python utilizada para extrar información de archivos HTML y XML, para el siguiente trabajo se utilizo el link de: https://www.datosmundial.com/america/mexico/crecimiento-poblacional.php el cual nos brinda datos acerca de la tasa de natalidad, tasa de muerte, el tamaño de la población, el año en que se evaluo entre otros datos importantes, por eso utilizando webScraping con BeutifulSoup extraeremos la información de la tabla de la página web."
      ],
      "metadata": {
        "id": "-TCRxm8Vynep"
      }
    },
    {
      "cell_type": "markdown",
      "source": [
        "- BeautifulSoup: Utilizando las librerias de requets y BeautifulSoup es de la forma que trabajaremos.\n",
        "\n",
        "- Primero es importante crear una variable llamada url donde sera igual a la url de la página web.\n",
        "\n",
        "- Crearemos un response el cual utilizando la bibloteca de requests obtendra la url de la página web.\n",
        "\n",
        "- Soup = a la libreria de BeautifulSoup utilizara la el response para extraer la información del HTML de la página.\n",
        "\n",
        "- Ahora utilizando la variable tabla encontremos con el metodo find la etiqueta table dentro del HTML con la clase std100 inspeccionando la página visualice que la etiqueta table contiene esa clase.\n",
        "\n",
        "- Ahora utilizando el metodo find_all() de la tabla lo utilizaremos para encontrar todo lo que sea una etiqueta tr.\n",
        "\n",
        "- Despues con un ciclo for recorremos todas las filas de la tabla, con una variable datos encontrar todo las etiquetas td, despues por el metodo get_text recorreremos los datos con posiciones de arreglos y al final solo imprimiremos los datos."
      ],
      "metadata": {
        "id": "1eosnfAHc8UH"
      }
    },
    {
      "cell_type": "code",
      "source": [
        "import requests\n",
        "from bs4 import BeautifulSoup\n",
        "\n",
        "url = 'https://www.datosmundial.com/america/mexico/crecimiento-poblacional.php'\n",
        "\n",
        "response = requests.get(url)\n",
        "soup = BeautifulSoup(response.text, 'html.parser')\n",
        "\n",
        "tabla = soup.find('table', class_='std100')\n",
        "\n",
        "filas = tabla.find_all('tr')[1:]\n",
        "\n",
        "for fila in filas:\n",
        "    datos = fila.find_all('td')\n",
        "    año = datos[0].get_text()\n",
        "    poblacion = datos[1].get_text()\n",
        "    cambio = datos[2].get_text()\n",
        "    natalidad = datos[3].get_text()\n",
        "    Tasa = datos[4].get_text()\n",
        "    print(f'Año: {año}, Población: {poblacion} , cambio {cambio}, Tasa de natalidad {natalidad}, Tasa de muerte {Tasa} ' )\n"
      ],
      "metadata": {
        "colab": {
          "base_uri": "https://localhost:8080/"
        },
        "id": "ud2E52Ncv9Z8",
        "outputId": "e5e3c6fd-8b21-4799-eda1-d3e9146da1a8"
      },
      "execution_count": 13,
      "outputs": [
        {
          "output_type": "stream",
          "name": "stdout",
          "text": [
            "Año: 1961, Población: 38,97 M , cambio 3,16 %, Tasa de natalidad 44,9 ‰, Tasa de muerte 11,9 ‰ \n",
            "Año: 1962, Población: 40,20 M , cambio 3,15 %, Tasa de natalidad 44,7 ‰, Tasa de muerte 11,6 ‰ \n",
            "Año: 1963, Población: 41,46 M , cambio 3,15 %, Tasa de natalidad 44,5 ‰, Tasa de muerte 11,3 ‰ \n",
            "Año: 1964, Población: 42,77 M , cambio 3,16 %, Tasa de natalidad 44,4 ‰, Tasa de muerte 11,1 ‰ \n",
            "Año: 1965, Población: 44,12 M , cambio 3,16 %, Tasa de natalidad 44,2 ‰, Tasa de muerte 10,9 ‰ \n",
            "Año: 1966, Población: 45,52 M , cambio 3,16 %, Tasa de natalidad 44,1 ‰, Tasa de muerte 10,7 ‰ \n",
            "Año: 1967, Población: 46,96 M , cambio 3,16 %, Tasa de natalidad 43,9 ‰, Tasa de muerte 10,5 ‰ \n",
            "Año: 1968, Población: 48,43 M , cambio 3,14 %, Tasa de natalidad 43,7 ‰, Tasa de muerte 10,3 ‰ \n",
            "Año: 1969, Población: 49,95 M , cambio 3,12 %, Tasa de natalidad 43,4 ‰, Tasa de muerte 10,1 ‰ \n",
            "Año: 1970, Población: 51,49 M , cambio 3,10 %, Tasa de natalidad 43,0 ‰, Tasa de muerte 9,8 ‰ \n",
            "Año: 1971, Población: 53,08 M , cambio 3,07 %, Tasa de natalidad 42,5 ‰, Tasa de muerte 9,5 ‰ \n",
            "Año: 1972, Población: 54,69 M , cambio 3,04 %, Tasa de natalidad 41,9 ‰, Tasa de muerte 9,2 ‰ \n",
            "Año: 1973, Población: 56,32 M , cambio 2,99 %, Tasa de natalidad 41,2 ‰, Tasa de muerte 8,9 ‰ \n",
            "Año: 1974, Población: 57,97 M , cambio 2,92 %, Tasa de natalidad 40,4 ‰, Tasa de muerte 8,6 ‰ \n",
            "Año: 1975, Población: 59,61 M , cambio 2,83 %, Tasa de natalidad 39,5 ‰, Tasa de muerte 8,3 ‰ \n",
            "Año: 1976, Población: 61,24 M , cambio 2,74 %, Tasa de natalidad 38,6 ‰, Tasa de muerte 8,0 ‰ \n",
            "Año: 1977, Población: 62,87 M , cambio 2,66 %, Tasa de natalidad 37,6 ‰, Tasa de muerte 7,7 ‰ \n",
            "Año: 1978, Población: 64,49 M , cambio 2,58 %, Tasa de natalidad 36,6 ‰, Tasa de muerte 7,4 ‰ \n",
            "Año: 1979, Población: 66,12 M , cambio 2,53 %, Tasa de natalidad 35,7 ‰, Tasa de muerte 7,1 ‰ \n",
            "Año: 1980, Población: 67,76 M , cambio 2,48 %, Tasa de natalidad 34,8 ‰, Tasa de muerte 6,9 ‰ \n",
            "Año: 1981, Población: 69,41 M , cambio 2,43 %, Tasa de natalidad 34,0 ‰, Tasa de muerte 6,7 ‰ \n",
            "Año: 1982, Población: 71,06 M , cambio 2,38 %, Tasa de natalidad 33,3 ‰, Tasa de muerte 6,5 ‰ \n",
            "Año: 1983, Población: 72,71 M , cambio 2,32 %, Tasa de natalidad 32,6 ‰, Tasa de muerte 6,3 ‰ \n",
            "Año: 1984, Población: 74,35 M , cambio 2,26 %, Tasa de natalidad 32,0 ‰, Tasa de muerte 6,2 ‰ \n",
            "Año: 1985, Población: 75,98 M , cambio 2,19 %, Tasa de natalidad 31,4 ‰, Tasa de muerte 6,0 ‰ \n",
            "Año: 1986, Población: 77,60 M , cambio 2,13 %, Tasa de natalidad 30,9 ‰, Tasa de muerte 5,9 ‰ \n",
            "Año: 1987, Población: 79,20 M , cambio 2,06 %, Tasa de natalidad 30,4 ‰, Tasa de muerte 5,8 ‰ \n",
            "Año: 1988, Población: 80,79 M , cambio 2,01 %, Tasa de natalidad 29,9 ‰, Tasa de muerte 5,7 ‰ \n",
            "Año: 1989, Población: 82,37 M , cambio 1,96 %, Tasa de natalidad 29,4 ‰, Tasa de muerte 5,6 ‰ \n",
            "Año: 1990, Población: 83,94 M , cambio 1,91 %, Tasa de natalidad 28,8 ‰, Tasa de muerte 5,4 ‰ \n",
            "Año: 1991, Población: 85,51 M , cambio 1,87 %, Tasa de natalidad 28,2 ‰, Tasa de muerte 5,3 ‰ \n",
            "Año: 1992, Población: 87,08 M , cambio 1,83 %, Tasa de natalidad 27,7 ‰, Tasa de muerte 5,3 ‰ \n",
            "Año: 1993, Población: 88,63 M , cambio 1,78 %, Tasa de natalidad 27,1 ‰, Tasa de muerte 5,2 ‰ \n",
            "Año: 1994, Población: 90,16 M , cambio 1,73 %, Tasa de natalidad 26,6 ‰, Tasa de muerte 5,1 ‰ \n",
            "Año: 1995, Población: 91,66 M , cambio 1,67 %, Tasa de natalidad 26,1 ‰, Tasa de muerte 5,0 ‰ \n",
            "Año: 1996, Población: 93,15 M , cambio 1,62 %, Tasa de natalidad 25,6 ‰, Tasa de muerte 5,0 ‰ \n",
            "Año: 1997, Población: 94,61 M , cambio 1,57 %, Tasa de natalidad 25,1 ‰, Tasa de muerte 4,9 ‰ \n",
            "Año: 1998, Población: 96,06 M , cambio 1,53 %, Tasa de natalidad 24,7 ‰, Tasa de muerte 4,8 ‰ \n",
            "Año: 1999, Población: 97,48 M , cambio 1,49 %, Tasa de natalidad 24,3 ‰, Tasa de muerte 4,8 ‰ \n",
            "Año: 2000, Población: 98,90 M , cambio 1,45 %, Tasa de natalidad 23,9 ‰, Tasa de muerte 4,7 ‰ \n",
            "Año: 2001, Población: 100,30 M , cambio 1,41 %, Tasa de natalidad 23,4 ‰, Tasa de muerte 4,7 ‰ \n",
            "Año: 2002, Población: 101,68 M , cambio 1,38 %, Tasa de natalidad 23,0 ‰, Tasa de muerte 4,7 ‰ \n",
            "Año: 2003, Población: 103,08 M , cambio 1,37 %, Tasa de natalidad 22,6 ‰, Tasa de muerte 4,7 ‰ \n",
            "Año: 2004, Población: 104,51 M , cambio 1,39 %, Tasa de natalidad 22,2 ‰, Tasa de muerte 4,7 ‰ \n",
            "Año: 2005, Población: 106,01 M , cambio 1,43 %, Tasa de natalidad 21,7 ‰, Tasa de muerte 4,8 ‰ \n",
            "Año: 2006, Población: 107,56 M , cambio 1,47 %, Tasa de natalidad 21,3 ‰, Tasa de muerte 4,9 ‰ \n",
            "Año: 2007, Población: 109,17 M , cambio 1,50 %, Tasa de natalidad 21,0 ‰, Tasa de muerte 5,0 ‰ \n",
            "Año: 2008, Población: 110,82 M , cambio 1,51 %, Tasa de natalidad 20,6 ‰, Tasa de muerte 5,1 ‰ \n",
            "Año: 2009, Población: 112,46 M , cambio 1,49 %, Tasa de natalidad 20,3 ‰, Tasa de muerte 5,2 ‰ \n",
            "Año: 2010, Población: 114,09 M , cambio 1,45 %, Tasa de natalidad 20,0 ‰, Tasa de muerte 5,3 ‰ \n",
            "Año: 2011, Población: 115,70 M , cambio 1,40 %, Tasa de natalidad 19,8 ‰, Tasa de muerte 5,4 ‰ \n",
            "Año: 2012, Población: 117,27 M , cambio 1,36 %, Tasa de natalidad 19,5 ‰, Tasa de muerte 5,5 ‰ \n",
            "Año: 2013, Población: 118,83 M , cambio 1,32 %, Tasa de natalidad 19,2 ‰, Tasa de muerte 5,6 ‰ \n",
            "Año: 2014, Población: 120,36 M , cambio 1,29 %, Tasa de natalidad 18,7 ‰, Tasa de muerte 5,8 ‰ \n",
            "Año: 2015, Población: 120,15 M , cambio -0,17 %, Tasa de natalidad 18,0 ‰, Tasa de muerte 6,0 ‰ \n",
            "Año: 2016, Población: 121,52 M , cambio 1,14 %, Tasa de natalidad 17,4 ‰, Tasa de muerte 6,3 ‰ \n",
            "Año: 2017, Población: 122,84 M , cambio 1,09 %, Tasa de natalidad 16,9 ‰, Tasa de muerte 6,6 ‰ \n",
            "Año: 2018, Población: 124,01 M , cambio 0,96 %, Tasa de natalidad 16,5 ‰, Tasa de muerte 6,9 ‰ \n",
            "Año: 2019, Población: 125,09 M , cambio 0,86 %, Tasa de natalidad 15,7 ‰, Tasa de muerte 6,9 ‰ \n",
            "Año: 2020, Población: 126,00 M , cambio 0,73 %, Tasa de natalidad 15,6 ‰, Tasa de muerte 9,3 ‰ \n",
            "Año: 2021, Población: 126,71 M , cambio 0,56 %, Tasa de natalidad 14,9 ‰, Tasa de muerte 9,4 ‰ \n"
          ]
        }
      ]
    },
    {
      "cell_type": "markdown",
      "source": [
        "#Conclusión.\n",
        "El WebScraping es utilizado en las empresas para extraer datos o información el BeautifulSoup es uno de los metodos de webScraping más utilizados hoy en día por las empresas, es una forma sencillas de código y no tardada, pero también es importante el no utilizar información con copyright para trabajar."
      ],
      "metadata": {
        "id": "Ea2qaGN6151o"
      }
    }
  ]
}