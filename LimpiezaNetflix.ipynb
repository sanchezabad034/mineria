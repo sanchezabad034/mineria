{
  "nbformat": 4,
  "nbformat_minor": 0,
  "metadata": {
    "colab": {
      "provenance": []
    },
    "kernelspec": {
      "name": "python3",
      "display_name": "Python 3"
    },
    "language_info": {
      "name": "python"
    }
  },
  "cells": [
    {
      "cell_type": "markdown",
      "source": [
        "#Limpieza de datos de Netflix"
      ],
      "metadata": {
        "id": "KcRrfEbuSwKU"
      }
    },
    {
      "cell_type": "markdown",
      "source": [
        "Realizar una limpieza de los datos y análisis exploratorio de datos para determinar las características de las películas que tienen mayor probabilidad a ser mejor puntuadas.\n",
        "\n",
        "NetflixOriginals.csv NetflixOriginals.csv 23 de June de 2023, 12:51"
      ],
      "metadata": {
        "id": "toZ6FtJQS02v"
      }
    },
    {
      "cell_type": "markdown",
      "source": [
        "#En el siguiente dataset, encontrarán datos de películas de Netflix:"
      ],
      "metadata": {
        "id": "K4x-XzZqS3df"
      }
    },
    {
      "cell_type": "markdown",
      "source": [
        "Titulo,\n",
        "Género,\n",
        "Fecha de estreno,\n",
        "Duración en minutos,\n",
        "Puntuación IMDB,\n",
        "Idioma."
      ],
      "metadata": {
        "id": "qVsSaA4jS7u5"
      }
    },
    {
      "cell_type": "code",
      "execution_count": 1,
      "metadata": {
        "id": "8uVFS1LCSr2m"
      },
      "outputs": [],
      "source": [
        "# Importar librerías\n",
        "import pandas as pd\n",
        "import matplotlib.pyplot as plt\n",
        "import seaborn as sns"
      ]
    },
    {
      "cell_type": "code",
      "source": [
        "# Lectura\n",
        "from google.colab import drive\n",
        "drive.mount('/gdrive')\n",
        "\n",
        "ruta = \"/gdrive/MyDrive/mineria/NetflixOriginals.csv\"\n",
        "data = pd.read_csv(ruta, encoding =\"latin1\")"
      ],
      "metadata": {
        "colab": {
          "base_uri": "https://localhost:8080/"
        },
        "id": "KPYJH6ddTHNk",
        "outputId": "5d426d05-438f-4156-8f7f-8cb90eab1cba"
      },
      "execution_count": 2,
      "outputs": [
        {
          "output_type": "stream",
          "name": "stdout",
          "text": [
            "Mounted at /gdrive\n"
          ]
        }
      ]
    },
    {
      "cell_type": "code",
      "source": [
        "data.info"
      ],
      "metadata": {
        "id": "Gp7TJOWqTOxQ"
      },
      "execution_count": null,
      "outputs": []
    },
    {
      "cell_type": "markdown",
      "source": [
        "#Limpiamos los datos"
      ],
      "metadata": {
        "id": "uwV-GhbzTU6b"
      }
    },
    {
      "cell_type": "code",
      "source": [
        "data.dropna(inplace=True)\n",
        "data.info()"
      ],
      "metadata": {
        "colab": {
          "base_uri": "https://localhost:8080/"
        },
        "id": "m7ZevGe7TXSw",
        "outputId": "ceb606e5-f431-451f-b888-df5f8da9e8ba"
      },
      "execution_count": 4,
      "outputs": [
        {
          "output_type": "stream",
          "name": "stdout",
          "text": [
            "<class 'pandas.core.frame.DataFrame'>\n",
            "Int64Index: 579 entries, 0 to 583\n",
            "Data columns (total 6 columns):\n",
            " #   Column      Non-Null Count  Dtype  \n",
            "---  ------      --------------  -----  \n",
            " 0   Title       579 non-null    object \n",
            " 1   Genre       579 non-null    object \n",
            " 2   Premiere    579 non-null    object \n",
            " 3   Runtime     579 non-null    int64  \n",
            " 4   IMDB Score  579 non-null    float64\n",
            " 5   Language    579 non-null    object \n",
            "dtypes: float64(1), int64(1), object(4)\n",
            "memory usage: 31.7+ KB\n"
          ]
        }
      ]
    },
    {
      "cell_type": "markdown",
      "source": [
        "#Columnas irrelevantes"
      ],
      "metadata": {
        "id": "cNXzdgp2TcTV"
      }
    },
    {
      "cell_type": "code",
      "source": [
        "cols_cat = ['Title', 'Genre', 'Premiere', 'Language']\n",
        "\n",
        "for col in cols_cat:\n",
        "  print(f'Columna: {col}: {data[col].nunique()} subniveles' )"
      ],
      "metadata": {
        "colab": {
          "base_uri": "https://localhost:8080/",
          "height": 207
        },
        "id": "eVtWRnWDTdMK",
        "outputId": "0bc0945d-fe45-425e-9526-ec12b2f494bc"
      },
      "execution_count": 3,
      "outputs": [
        {
          "output_type": "error",
          "ename": "NameError",
          "evalue": "ignored",
          "traceback": [
            "\u001b[0;31m---------------------------------------------------------------------------\u001b[0m",
            "\u001b[0;31mNameError\u001b[0m                                 Traceback (most recent call last)",
            "\u001b[0;32m<ipython-input-3-eb177967d155>\u001b[0m in \u001b[0;36m<cell line: 3>\u001b[0;34m()\u001b[0m\n\u001b[1;32m      2\u001b[0m \u001b[0;34m\u001b[0m\u001b[0m\n\u001b[1;32m      3\u001b[0m \u001b[0;32mfor\u001b[0m \u001b[0mcol\u001b[0m \u001b[0;32min\u001b[0m \u001b[0mcols_cat\u001b[0m\u001b[0;34m:\u001b[0m\u001b[0;34m\u001b[0m\u001b[0;34m\u001b[0m\u001b[0m\n\u001b[0;32m----> 4\u001b[0;31m   \u001b[0mprint\u001b[0m\u001b[0;34m(\u001b[0m\u001b[0;34mf'Columna: {col}: {data[col].nunique()} subniveles'\u001b[0m \u001b[0;34m)\u001b[0m\u001b[0;34m\u001b[0m\u001b[0;34m\u001b[0m\u001b[0m\n\u001b[0m",
            "\u001b[0;31mNameError\u001b[0m: name 'data' is not defined"
          ]
        }
      ]
    },
    {
      "cell_type": "code",
      "source": [
        "data.describe()"
      ],
      "metadata": {
        "colab": {
          "base_uri": "https://localhost:8080/",
          "height": 300
        },
        "id": "1L8NiaRATqSZ",
        "outputId": "aa30f6b5-6340-45c4-e96e-6edb6477602a"
      },
      "execution_count": 6,
      "outputs": [
        {
          "output_type": "execute_result",
          "data": {
            "text/plain": [
              "          Runtime  IMDB Score\n",
              "count  579.000000  579.000000\n",
              "mean    93.497409    6.274784\n",
              "std     27.846426    0.976765\n",
              "min      4.000000    2.500000\n",
              "25%     86.000000    5.700000\n",
              "50%     97.000000    6.400000\n",
              "75%    107.500000    7.000000\n",
              "max    209.000000    9.000000"
            ],
            "text/html": [
              "\n",
              "  <div id=\"df-478ab3eb-f0f6-45ad-9e63-bee78afc9ad9\">\n",
              "    <div class=\"colab-df-container\">\n",
              "      <div>\n",
              "<style scoped>\n",
              "    .dataframe tbody tr th:only-of-type {\n",
              "        vertical-align: middle;\n",
              "    }\n",
              "\n",
              "    .dataframe tbody tr th {\n",
              "        vertical-align: top;\n",
              "    }\n",
              "\n",
              "    .dataframe thead th {\n",
              "        text-align: right;\n",
              "    }\n",
              "</style>\n",
              "<table border=\"1\" class=\"dataframe\">\n",
              "  <thead>\n",
              "    <tr style=\"text-align: right;\">\n",
              "      <th></th>\n",
              "      <th>Runtime</th>\n",
              "      <th>IMDB Score</th>\n",
              "    </tr>\n",
              "  </thead>\n",
              "  <tbody>\n",
              "    <tr>\n",
              "      <th>count</th>\n",
              "      <td>579.000000</td>\n",
              "      <td>579.000000</td>\n",
              "    </tr>\n",
              "    <tr>\n",
              "      <th>mean</th>\n",
              "      <td>93.497409</td>\n",
              "      <td>6.274784</td>\n",
              "    </tr>\n",
              "    <tr>\n",
              "      <th>std</th>\n",
              "      <td>27.846426</td>\n",
              "      <td>0.976765</td>\n",
              "    </tr>\n",
              "    <tr>\n",
              "      <th>min</th>\n",
              "      <td>4.000000</td>\n",
              "      <td>2.500000</td>\n",
              "    </tr>\n",
              "    <tr>\n",
              "      <th>25%</th>\n",
              "      <td>86.000000</td>\n",
              "      <td>5.700000</td>\n",
              "    </tr>\n",
              "    <tr>\n",
              "      <th>50%</th>\n",
              "      <td>97.000000</td>\n",
              "      <td>6.400000</td>\n",
              "    </tr>\n",
              "    <tr>\n",
              "      <th>75%</th>\n",
              "      <td>107.500000</td>\n",
              "      <td>7.000000</td>\n",
              "    </tr>\n",
              "    <tr>\n",
              "      <th>max</th>\n",
              "      <td>209.000000</td>\n",
              "      <td>9.000000</td>\n",
              "    </tr>\n",
              "  </tbody>\n",
              "</table>\n",
              "</div>\n",
              "      <button class=\"colab-df-convert\" onclick=\"convertToInteractive('df-478ab3eb-f0f6-45ad-9e63-bee78afc9ad9')\"\n",
              "              title=\"Convert this dataframe to an interactive table.\"\n",
              "              style=\"display:none;\">\n",
              "        \n",
              "  <svg xmlns=\"http://www.w3.org/2000/svg\" height=\"24px\"viewBox=\"0 0 24 24\"\n",
              "       width=\"24px\">\n",
              "    <path d=\"M0 0h24v24H0V0z\" fill=\"none\"/>\n",
              "    <path d=\"M18.56 5.44l.94 2.06.94-2.06 2.06-.94-2.06-.94-.94-2.06-.94 2.06-2.06.94zm-11 1L8.5 8.5l.94-2.06 2.06-.94-2.06-.94L8.5 2.5l-.94 2.06-2.06.94zm10 10l.94 2.06.94-2.06 2.06-.94-2.06-.94-.94-2.06-.94 2.06-2.06.94z\"/><path d=\"M17.41 7.96l-1.37-1.37c-.4-.4-.92-.59-1.43-.59-.52 0-1.04.2-1.43.59L10.3 9.45l-7.72 7.72c-.78.78-.78 2.05 0 2.83L4 21.41c.39.39.9.59 1.41.59.51 0 1.02-.2 1.41-.59l7.78-7.78 2.81-2.81c.8-.78.8-2.07 0-2.86zM5.41 20L4 18.59l7.72-7.72 1.47 1.35L5.41 20z\"/>\n",
              "  </svg>\n",
              "      </button>\n",
              "      \n",
              "  <style>\n",
              "    .colab-df-container {\n",
              "      display:flex;\n",
              "      flex-wrap:wrap;\n",
              "      gap: 12px;\n",
              "    }\n",
              "\n",
              "    .colab-df-convert {\n",
              "      background-color: #E8F0FE;\n",
              "      border: none;\n",
              "      border-radius: 50%;\n",
              "      cursor: pointer;\n",
              "      display: none;\n",
              "      fill: #1967D2;\n",
              "      height: 32px;\n",
              "      padding: 0 0 0 0;\n",
              "      width: 32px;\n",
              "    }\n",
              "\n",
              "    .colab-df-convert:hover {\n",
              "      background-color: #E2EBFA;\n",
              "      box-shadow: 0px 1px 2px rgba(60, 64, 67, 0.3), 0px 1px 3px 1px rgba(60, 64, 67, 0.15);\n",
              "      fill: #174EA6;\n",
              "    }\n",
              "\n",
              "    [theme=dark] .colab-df-convert {\n",
              "      background-color: #3B4455;\n",
              "      fill: #D2E3FC;\n",
              "    }\n",
              "\n",
              "    [theme=dark] .colab-df-convert:hover {\n",
              "      background-color: #434B5C;\n",
              "      box-shadow: 0px 1px 3px 1px rgba(0, 0, 0, 0.15);\n",
              "      filter: drop-shadow(0px 1px 2px rgba(0, 0, 0, 0.3));\n",
              "      fill: #FFFFFF;\n",
              "    }\n",
              "  </style>\n",
              "\n",
              "      <script>\n",
              "        const buttonEl =\n",
              "          document.querySelector('#df-478ab3eb-f0f6-45ad-9e63-bee78afc9ad9 button.colab-df-convert');\n",
              "        buttonEl.style.display =\n",
              "          google.colab.kernel.accessAllowed ? 'block' : 'none';\n",
              "\n",
              "        async function convertToInteractive(key) {\n",
              "          const element = document.querySelector('#df-478ab3eb-f0f6-45ad-9e63-bee78afc9ad9');\n",
              "          const dataTable =\n",
              "            await google.colab.kernel.invokeFunction('convertToInteractive',\n",
              "                                                     [key], {});\n",
              "          if (!dataTable) return;\n",
              "\n",
              "          const docLinkHtml = 'Like what you see? Visit the ' +\n",
              "            '<a target=\"_blank\" href=https://colab.research.google.com/notebooks/data_table.ipynb>data table notebook</a>'\n",
              "            + ' to learn more about interactive tables.';\n",
              "          element.innerHTML = '';\n",
              "          dataTable['output_type'] = 'display_data';\n",
              "          await google.colab.output.renderOutput(dataTable, element);\n",
              "          const docLink = document.createElement('div');\n",
              "          docLink.innerHTML = docLinkHtml;\n",
              "          element.appendChild(docLink);\n",
              "        }\n",
              "      </script>\n",
              "    </div>\n",
              "  </div>\n",
              "  "
            ]
          },
          "metadata": {},
          "execution_count": 6
        }
      ]
    },
    {
      "cell_type": "code",
      "source": [
        "#Analisis de filas repetidas\n",
        "\n",
        "print(f'Tamaño del set antes de eliminar las filas repetidas: {data.shape}')\n",
        "data.drop_duplicates(inplace=True)\n",
        "print(f'Tamaño del set después de eliminar las filas repetidas: {data.shape}')"
      ],
      "metadata": {
        "colab": {
          "base_uri": "https://localhost:8080/"
        },
        "id": "anpf7EFFTtqA",
        "outputId": "c45eef5f-081b-4527-af97-3ab61e2a4414"
      },
      "execution_count": 7,
      "outputs": [
        {
          "output_type": "stream",
          "name": "stdout",
          "text": [
            "Tamaño del set antes de eliminar las filas repetidas: (579, 6)\n",
            "Tamaño del set después de eliminar las filas repetidas: (579, 6)\n"
          ]
        }
      ]
    },
    {
      "cell_type": "markdown",
      "source": [
        "#Variables numericas"
      ],
      "metadata": {
        "id": "FS0GRAMyTw1M"
      }
    },
    {
      "cell_type": "code",
      "source": [
        "cols_num = ['Runtime', 'IMDB Score']\n",
        "\n",
        "fig, ax = plt.subplots(nrows = 2, ncols=1, figsize=(27,10))\n",
        "fig.subplots_adjust(hspace=0.5)\n",
        "\n",
        "for i, col in enumerate(cols_num):\n",
        "  sns.boxplot(x=col, data=data , ax=ax[i])\n",
        "  ax[i].set_title(col)"
      ],
      "metadata": {
        "colab": {
          "base_uri": "https://localhost:8080/",
          "height": 566
        },
        "id": "Aa9hiZxmTyxd",
        "outputId": "c35a87a4-3a8d-4cd3-ce3e-35bff6a000d9"
      },
      "execution_count": 10,
      "outputs": [
        {
          "output_type": "display_data",
          "data": {
            "text/plain": [
              "<Figure size 2700x1000 with 2 Axes>"
            ],
            "image/png": "[encoded data removed]"
          },
          "metadata": {}
        }
      ]
    },
    {
      "cell_type": "code",
      "source": [
        "data.shape"
      ],
      "metadata": {
        "colab": {
          "base_uri": "https://localhost:8080/"
        },
        "id": "tWKbdg4kUJ1L",
        "outputId": "8aec0904-b0e3-4ff9-e06c-93ba2430a7f3"
      },
      "execution_count": 11,
      "outputs": [
        {
          "output_type": "execute_result",
          "data": {
            "text/plain": [
              "(579, 6)"
            ]
          },
          "metadata": {},
          "execution_count": 11
        }
      ]
    },
    {
      "cell_type": "markdown",
      "source": [
        "#Conclusión\n",
        "Despues de realizar una limpieza en los datos eliminando columnas vacias hemos logrado obtener 579 datos y 6 columas, donde originalmente se tenian 585 registros eliminando: 6 datos."
      ],
      "metadata": {
        "id": "sMzjk_jTUSxM"
      }
    },
    {
      "cell_type": "code",
      "source": [
        "ruta = \"/gdrive/MyDrive/mineria/NetflixOriginals_cleaned.csv\"\n",
        "data.to_csv(ruta, index=False)"
      ],
      "metadata": {
        "id": "vN2okKAEUntl"
      },
      "execution_count": 14,
      "outputs": []
    }
  ]
}