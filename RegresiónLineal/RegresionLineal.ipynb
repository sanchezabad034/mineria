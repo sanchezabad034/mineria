{
  "nbformat": 4,
  "nbformat_minor": 0,
  "metadata": {
    "colab": {
      "provenance": []
    },
    "kernelspec": {
      "name": "python3",
      "display_name": "Python 3"
    },
    "language_info": {
      "name": "python"
    }
  },
  "cells": [
    {
      "cell_type": "markdown",
      "source": [
        "# Como crear una Regresión Lineal con Python y Pandas.\n"
      ],
      "metadata": {
        "id": "HQY1ma7KtpqO"
      }
    },
    {
      "cell_type": "markdown",
      "source": [
        "#Introducción.\n",
        "Utilizando Pandas se realizará un regresión lineal utilizando datos de CSV que utilizaremos valores como la edad de las personas y PSS\n",
        " los cuales hacen referencia a personas con cancer, visualizaremos la correlación de las siguientes variables con una gráfica con la librería de Matplotlib y entrenaremos al modelo utilizando Sklearn."
      ],
      "metadata": {
        "id": "unRCsev1iN_r"
      }
    },
    {
      "cell_type": "markdown",
      "source": [
        "** LIBRERIAS NECESARIAS PARA TRABAJAR CON PYTHON Y PANDAS **"
      ],
      "metadata": {
        "id": "ZVHI3YrjfzV6"
      }
    },
    {
      "cell_type": "code",
      "execution_count": null,
      "metadata": {
        "id": "tjVhy1gPp-LJ"
      },
      "outputs": [],
      "source": [
        "import numpy as np\n",
        "from sklearn.linear_model import LinearRegression\n",
        "import matplotlib.pyplot as plt\n",
        "import pandas as pd"
      ]
    },
    {
      "cell_type": "markdown",
      "source": [
        "** Para trabajar los datos se subio a un archivo de drive **"
      ],
      "metadata": {
        "id": "IzrbnSeogLux"
      }
    },
    {
      "cell_type": "code",
      "source": [
        "from google.colab import drive\n",
        "drive.mount('/gdrive')\n",
        "\n",
        "ruta = \"/gdrive/MyDrive/mineria/Regresión-Lineal.csv\"\n",
        "data = pd.read_csv(ruta, encoding=\"latin1\")"
      ],
      "metadata": {
        "colab": {
          "base_uri": "https://localhost:8080/"
        },
        "id": "v-431FYDuc9l",
        "outputId": "a3a26020-6606-4953-804b-50cea78f6c8d"
      },
      "execution_count": null,
      "outputs": [
        {
          "output_type": "stream",
          "name": "stdout",
          "text": [
            "Drive already mounted at /gdrive; to attempt to forcibly remount, call drive.mount(\"/gdrive\", force_remount=True).\n"
          ]
        }
      ]
    },
    {
      "cell_type": "markdown",
      "source": [
        "#Se va a trabajar con edad y PSS"
      ],
      "metadata": {
        "id": "pvA0jbHDu_sH"
      }
    },
    {
      "cell_type": "markdown",
      "source": [
        "**Se crean dos variables donde se alamacenan los datos ademas de leer los datos del dataframe**"
      ],
      "metadata": {
        "id": "XvK8EKXOhLsl"
      }
    },
    {
      "cell_type": "code",
      "source": [
        "X = data['Edad'].values.reshape(-1, 1)\n",
        "y = data['PSS'].values"
      ],
      "metadata": {
        "id": "cLddfCBMu1c5"
      },
      "execution_count": null,
      "outputs": []
    },
    {
      "cell_type": "markdown",
      "source": [
        "**Se crea una regresion lineal utilizando la libreria linearRegression**"
      ],
      "metadata": {
        "id": "9YntQLcuiTLI"
      }
    },
    {
      "cell_type": "code",
      "source": [
        "regresion_lineal = LinearRegression()"
      ],
      "metadata": {
        "id": "lKXviHFBvCnp"
      },
      "execution_count": null,
      "outputs": []
    },
    {
      "cell_type": "markdown",
      "source": [
        "Se realiza una visualización de los datos a trabajar"
      ],
      "metadata": {
        "id": "oQ1a_UjJvpAZ"
      }
    },
    {
      "cell_type": "markdown",
      "source": [
        "**Se le pasan los valores de X y Y a la regresión lineal**"
      ],
      "metadata": {
        "id": "Oiii35d4ia76"
      }
    },
    {
      "cell_type": "code",
      "source": [
        "regresion_lineal.fit(X, y)"
      ],
      "metadata": {
        "id": "pTmFGY2vvMDG",
        "outputId": "38d3410f-3423-4f8a-dc14-bf5c4df9b539",
        "colab": {
          "base_uri": "https://localhost:8080/",
          "height": 75
        }
      },
      "execution_count": null,
      "outputs": [
        {
          "output_type": "execute_result",
          "data": {
            "text/plain": [
              "LinearRegression()"
            ],
            "text/html": [
              "<style>#sk-container-id-1 {color: black;background-color: white;}#sk-container-id-1 pre{padding: 0;}#sk-container-id-1 div.sk-toggleable {background-color: white;}#sk-container-id-1 label.sk-toggleable__label {cursor: pointer;display: block;width: 100%;margin-bottom: 0;padding: 0.3em;box-sizing: border-box;text-align: center;}#sk-container-id-1 label.sk-toggleable__label-arrow:before {content: \"▸\";float: left;margin-right: 0.25em;color: #696969;}#sk-container-id-1 label.sk-toggleable__label-arrow:hover:before {color: black;}#sk-container-id-1 div.sk-estimator:hover label.sk-toggleable__label-arrow:before {color: black;}#sk-container-id-1 div.sk-toggleable__content {max-height: 0;max-width: 0;overflow: hidden;text-align: left;background-color: #f0f8ff;}#sk-container-id-1 div.sk-toggleable__content pre {margin: 0.2em;color: black;border-radius: 0.25em;background-color: #f0f8ff;}#sk-container-id-1 input.sk-toggleable__control:checked~div.sk-toggleable__content {max-height: 200px;max-width: 100%;overflow: auto;}#sk-container-id-1 input.sk-toggleable__control:checked~label.sk-toggleable__label-arrow:before {content: \"▾\";}#sk-container-id-1 div.sk-estimator input.sk-toggleable__control:checked~label.sk-toggleable__label {background-color: #d4ebff;}#sk-container-id-1 div.sk-label input.sk-toggleable__control:checked~label.sk-toggleable__label {background-color: #d4ebff;}#sk-container-id-1 input.sk-hidden--visually {border: 0;clip: rect(1px 1px 1px 1px);clip: rect(1px, 1px, 1px, 1px);height: 1px;margin: -1px;overflow: hidden;padding: 0;position: absolute;width: 1px;}#sk-container-id-1 div.sk-estimator {font-family: monospace;background-color: #f0f8ff;border: 1px dotted black;border-radius: 0.25em;box-sizing: border-box;margin-bottom: 0.5em;}#sk-container-id-1 div.sk-estimator:hover {background-color: #d4ebff;}#sk-container-id-1 div.sk-parallel-item::after {content: \"\";width: 100%;border-bottom: 1px solid gray;flex-grow: 1;}#sk-container-id-1 div.sk-label:hover label.sk-toggleable__label {background-color: #d4ebff;}#sk-container-id-1 div.sk-serial::before {content: \"\";position: absolute;border-left: 1px solid gray;box-sizing: border-box;top: 0;bottom: 0;left: 50%;z-index: 0;}#sk-container-id-1 div.sk-serial {display: flex;flex-direction: column;align-items: center;background-color: white;padding-right: 0.2em;padding-left: 0.2em;position: relative;}#sk-container-id-1 div.sk-item {position: relative;z-index: 1;}#sk-container-id-1 div.sk-parallel {display: flex;align-items: stretch;justify-content: center;background-color: white;position: relative;}#sk-container-id-1 div.sk-item::before, #sk-container-id-1 div.sk-parallel-item::before {content: \"\";position: absolute;border-left: 1px solid gray;box-sizing: border-box;top: 0;bottom: 0;left: 50%;z-index: -1;}#sk-container-id-1 div.sk-parallel-item {display: flex;flex-direction: column;z-index: 1;position: relative;background-color: white;}#sk-container-id-1 div.sk-parallel-item:first-child::after {align-self: flex-end;width: 50%;}#sk-container-id-1 div.sk-parallel-item:last-child::after {align-self: flex-start;width: 50%;}#sk-container-id-1 div.sk-parallel-item:only-child::after {width: 0;}#sk-container-id-1 div.sk-dashed-wrapped {border: 1px dashed gray;margin: 0 0.4em 0.5em 0.4em;box-sizing: border-box;padding-bottom: 0.4em;background-color: white;}#sk-container-id-1 div.sk-label label {font-family: monospace;font-weight: bold;display: inline-block;line-height: 1.2em;}#sk-container-id-1 div.sk-label-container {text-align: center;}#sk-container-id-1 div.sk-container {/* jupyter's `normalize.less` sets `[hidden] { display: none; }` but bootstrap.min.css set `[hidden] { display: none !important; }` so we also need the `!important` here to be able to override the default hidden behavior on the sphinx rendered scikit-learn.org. See: https://github.com/scikit-learn/scikit-learn/issues/21755 */display: inline-block !important;position: relative;}#sk-container-id-1 div.sk-text-repr-fallback {display: none;}</style><div id=\"sk-container-id-1\" class=\"sk-top-container\"><div class=\"sk-text-repr-fallback\"><pre>LinearRegression()</pre><b>In a Jupyter environment, please rerun this cell to show the HTML representation or trust the notebook. <br />On GitHub, the HTML representation is unable to render, please try loading this page with nbviewer.org.</b></div><div class=\"sk-container\" hidden><div class=\"sk-item\"><div class=\"sk-estimator sk-toggleable\"><input class=\"sk-toggleable__control sk-hidden--visually\" id=\"sk-estimator-id-1\" type=\"checkbox\" checked><label for=\"sk-estimator-id-1\" class=\"sk-toggleable__label sk-toggleable__label-arrow\">LinearRegression</label><div class=\"sk-toggleable__content\"><pre>LinearRegression()</pre></div></div></div></div></div>"
            ]
          },
          "metadata": {},
          "execution_count": 18
        }
      ]
    },
    {
      "cell_type": "markdown",
      "source": [
        "**regresion_lineal.coef_ devuelve un arreglo que contiene los coeficientes de la regresión lineal. En el caso de la regresión lineal simple, como en este ejemplo, este arreglo tendrá un solo valor, que representa la pendiente de la línea.**"
      ],
      "metadata": {
        "id": "falWTr4-i8GW"
      }
    },
    {
      "cell_type": "markdown",
      "source": [
        "**regresion_lineal.intercept_ devuelve el término de intercepción de la regresión lineal, es decir, el valor de \"y\" cuando \"x\" es igual a cero.**"
      ],
      "metadata": {
        "id": "9jqqTZuVjIZD"
      }
    },
    {
      "cell_type": "code",
      "source": [
        "coeficientes = regresion_lineal.coef_\n",
        "intercepcion = regresion_lineal.intercept_"
      ],
      "metadata": {
        "id": "AKUzuTMdvsP8"
      },
      "execution_count": null,
      "outputs": []
    },
    {
      "cell_type": "markdown",
      "source": [
        "**Entrenamiento del modelo**"
      ],
      "metadata": {
        "id": "ZgUi51-QjMD8"
      }
    },
    {
      "cell_type": "code",
      "source": [
        "predicciones = regresion_lineal.predict(X)"
      ],
      "metadata": {
        "id": "q4v3dfHSfgCa"
      },
      "execution_count": null,
      "outputs": []
    },
    {
      "cell_type": "markdown",
      "source": [
        "**Aqui utilizamos la libreria matplotlib para generar la grafica de la regresión lineal**"
      ],
      "metadata": {
        "id": "9BcxrUC9jVls"
      }
    },
    {
      "cell_type": "code",
      "source": [
        "plt.scatter(X, y, color='blue', label='Datos reales')\n",
        "plt.plot(X, predicciones, color='red', label='Regresión lineal')\n",
        "plt.xlabel('Edad')\n",
        "plt.ylabel('PSS')\n",
        "plt.title('Regresión Lineal')\n",
        "plt.legend()\n",
        "plt.show()"
      ],
      "metadata": {
        "id": "e0kU5-0vfiVV",
        "outputId": "fad20a2c-ca4c-4c40-b90f-20434f94b405",
        "colab": {
          "base_uri": "https://localhost:8080/",
          "height": 472
        }
      },
      "execution_count": null,
      "outputs": [
        {
          "output_type": "display_data",
          "data": {
            "text/plain": [
              "<Figure size 640x480 with 1 Axes>"
            ],
            "image/png": "[encoded data removed]"
          },
          "metadata": {}
        }
      ]
    },
    {
      "cell_type": "markdown",
      "source": [
        "#Conclusión\n",
        "Obteniendo la gráfica de la regresión lineal podemos observar que se contiene una relación cercana al uno y que muchos de los valores entre la edad y PSS\n",
        " contienen una gran cantidad de datos que estan\n",
        " cercas de la pendiente, y sabemos que mientras más cercas de la pendiente se manejen los datos, mejor será es la relación y el entrenamiento del modelo fue exitoso utilizando la librería de .fit\n",
        " de sklearn por lo cual pudo predecir los valores de la regresión sin ningún problema."
      ],
      "metadata": {
        "id": "NHySHs9nmPR0"
      }
    }
  ]
}